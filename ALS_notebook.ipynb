{
  "cells": [
    {
      "cell_type": "markdown",
      "source": [
        "# Настройка"
      ],
      "metadata": {
        "id": "NqaVediBJYP6"
      }
    },
    {
      "cell_type": "code",
      "execution_count": 1,
      "outputs": [
        {
          "output_type": "stream",
          "name": "stdout",
          "text": [
            "Looking in indexes: https://pypi.org/simple, https://us-python.pkg.dev/colab-wheels/public/simple/\n",
            "Collecting implicit\n",
            "  Downloading implicit-0.6.2-cp310-cp310-manylinux2014_x86_64.whl (18.6 MB)\n",
            "\u001b[2K     \u001b[90m━━━━━━━━━━━━━━━━━━━━━━━━━━━━━━━━━━━━━━━━\u001b[0m \u001b[32m18.6/18.6 MB\u001b[0m \u001b[31m44.4 MB/s\u001b[0m eta \u001b[36m0:00:00\u001b[0m\n",
            "\u001b[?25hRequirement already satisfied: numpy in /usr/local/lib/python3.10/dist-packages (from implicit) (1.22.4)\n",
            "Requirement already satisfied: scipy>=0.16 in /usr/local/lib/python3.10/dist-packages (from implicit) (1.10.1)\n",
            "Requirement already satisfied: tqdm>=4.27 in /usr/local/lib/python3.10/dist-packages (from implicit) (4.65.0)\n",
            "Installing collected packages: implicit\n",
            "Successfully installed implicit-0.6.2\n"
          ]
        }
      ],
      "source": [
        "!pip install implicit"
      ],
      "metadata": {
        "ExecuteTime": {
          "start_time": "2023-05-16T18:23:16.430028Z",
          "end_time": "2023-05-16T18:23:17.432390Z"
        },
        "colab": {
          "base_uri": "https://localhost:8080/"
        },
        "id": "cKPBKMb0vWTH",
        "outputId": "6cfc2907-a4f3-47cb-b43e-9b1e913db806"
      }
    },
    {
      "cell_type": "code",
      "source": [
        "SEED = 42\n",
        "\n",
        "TRAIN = 'TRAIN'\n",
        "TEST = 'TEST'\n",
        "WHOLE = 'WHOLE'"
      ],
      "metadata": {
        "id": "dbZ9b9mW-d86"
      },
      "execution_count": 2,
      "outputs": []
    },
    {
      "cell_type": "markdown",
      "source": [
        "# Создание набора данных"
      ],
      "metadata": {
        "id": "t8tj7oeEJkCe"
      }
    },
    {
      "cell_type": "code",
      "source": [
        "import numpy as np\n",
        "\n",
        "# Настройка процесса генерации данных\n",
        "num_users = 10000\n",
        "num_items = 1000\n",
        "sparsity_coef = 0.1 # 10% интеракций в матрице известны\n",
        "# Думаю распределение примерно напоминает реальное распределение рейтингов фильмов\n",
        "sample_dist = lambda n: np.round(np.random.beta(5, 2, n) * 10, 1)"
      ],
      "metadata": {
        "id": "zwLx7ErP3UrW"
      },
      "execution_count": 3,
      "outputs": []
    },
    {
      "cell_type": "code",
      "source": [
        "import matplotlib.pyplot as plt\n",
        "\n",
        "# Демонстрация распределения рейтингов\n",
        "np.random.seed(SEED)\n",
        "plt.title('Распределение рейтингов в матрице взаимодействия')\n",
        "plt.hist(sample_dist(1000));"
      ],
      "metadata": {
        "colab": {
          "base_uri": "https://localhost:8080/",
          "height": 451
        },
        "id": "6ER4gJrZNLn_",
        "outputId": "faacf1d7-8bd5-4ceb-eed2-5ff2c981e3e0"
      },
      "execution_count": 4,
      "outputs": [
        {
          "output_type": "display_data",
          "data": {
            "text/plain": [
              "<Figure size 640x480 with 1 Axes>"
            ],
            "image/png": "[encoded data removed]"
          },
          "metadata": {}
        }
      ]
    },
    {
      "cell_type": "code",
      "source": [
        "from implicit.evaluation import train_test_split\n",
        "import scipy as sp\n",
        "\n",
        "\n",
        "# Матрица взаимодействия\n",
        "interac_mat = sp.sparse.random(\n",
        "    num_users, \n",
        "    num_items, \n",
        "    density=sparsity_coef,\n",
        "    random_state=SEED, \n",
        "    data_rvs=sample_dist, \n",
        "    format='csc'    # формат совместимый с индексацией\n",
        ")\n",
        "\n",
        "# Деление на тренировочный и тестовый наборы\n",
        "interac_mat_train, interac_mat_test = train_test_split(\n",
        "    interac_mat, \n",
        "    train_percentage=0.8, \n",
        "    random_state=SEED\n",
        ")\n",
        "\n",
        "# Унифицированный способ доступа к данным\n",
        "interactions = {\n",
        "    TRAIN: interac_mat_train, \n",
        "    TEST: interac_mat_test, \n",
        "    WHOLE: interac_mat\n",
        "}\n",
        "\n",
        "print(\"Размер обучающего набора данных:\", interactions[TRAIN].shape)\n",
        "print(\"Размер тестового набора данных:\", interactions[TEST].shape)"
      ],
      "metadata": {
        "colab": {
          "base_uri": "https://localhost:8080/"
        },
        "id": "XC8yZdMs37Mz",
        "outputId": "dc020e0e-653b-43a6-940f-b286700079ad"
      },
      "execution_count": 5,
      "outputs": [
        {
          "output_type": "stream",
          "name": "stderr",
          "text": [
            "/usr/local/lib/python3.10/dist-packages/implicit/gpu/__init__.py:13: UserWarning: CUDA extension is built, but disabling GPU support because of 'Cuda Error: CUDA driver version is insufficient for CUDA runtime version (/project/./implicit/gpu/utils.h:71)'\n",
            "  warnings.warn(\n"
          ]
        },
        {
          "output_type": "stream",
          "name": "stdout",
          "text": [
            "Размер обучающего набора данных: (10000, 1000)\n",
            "Размер тестового набора данных: (10000, 1000)\n"
          ]
        }
      ]
    },
    {
      "cell_type": "markdown",
      "source": [
        "# Обучение модели"
      ],
      "metadata": {
        "id": "y2p_2Z-bKvGv"
      }
    },
    {
      "cell_type": "code",
      "execution_count": 6,
      "outputs": [
        {
          "output_type": "display_data",
          "data": {
            "text/plain": [
              "  0%|          | 0/15 [00:00<?, ?it/s]"
            ],
            "application/vnd.jupyter.widget-view+json": {
              "version_major": 2,
              "version_minor": 0,
              "model_id": "545514f552034519bea9790135daeda6"
            }
          },
          "metadata": {}
        }
      ],
      "source": [
        "from implicit.als import AlternatingLeastSquares\n",
        "\n",
        "# Создание и обучение модели ALS\n",
        "model = AlternatingLeastSquares(factors=50)\n",
        "model.fit(interactions[TRAIN])"
      ],
      "metadata": {
        "ExecuteTime": {
          "start_time": "2023-05-16T18:23:18.136143Z",
          "end_time": "2023-05-16T18:23:32.797967Z"
        },
        "colab": {
          "base_uri": "https://localhost:8080/",
          "height": 49,
          "referenced_widgets": [
            "545514f552034519bea9790135daeda6",
            "9b02d4210a494360b7429380f98cd17d",
            "f16fe746dd964fc18078d8f300589503",
            "3d162fd4ac874a3b8151810b7242c798",
            "a16183cee6a84ca0962b049c880cde61",
            "db63c0bdbcb642479c1b634bca7245d4",
            "4b66136f468c4f7b9f9b02a4fd54fdcf",
            "85a2c397d4644f71acc944a31013751b",
            "68f22897aa544d03bd3ea578afe6656a",
            "c529629f4e6c4c7f91344d8c771608d8",
            "0807c020e23447d6984a382270ca0336"
          ]
        },
        "id": "R_zOYhZfvWTO",
        "outputId": "3c7088d4-7d10-4edd-e643-de2388764476"
      }
    },
    {
      "cell_type": "code",
      "source": [
        "# Модель, симулирующая старую, \"худшую\" модель, для сравнения \n",
        "# ее с новой с помощью serendipity\n",
        "model_old = AlternatingLeastSquares(factors=30)\n",
        "model_old.fit(interactions[TRAIN])"
      ],
      "metadata": {
        "colab": {
          "base_uri": "https://localhost:8080/",
          "height": 49,
          "referenced_widgets": [
            "40950e98653745efad5de958eda45a92",
            "74692004e2e243f9a861e2cdd18ba89a",
            "3400a60204124e91a9e913a9c654f61a",
            "52ba0ff5e1184588a4cf53d4a74aeca8",
            "8eadfa9c2f934a60bac02df34e2bbb66",
            "59766c1f7ee64a01b885992ef0483e0e",
            "085856c36f354e4dbb5bdd80e538921f",
            "577e579b7ff848119a96b19a14ceae1a",
            "c9b9a1c3e15840d5934687454f163e10",
            "046d3e21120741aea46712b2c2a8fff5",
            "a83c7a1781a5452db18ea19e7138b7a8"
          ]
        },
        "id": "Qt9BsuyEdV9i",
        "outputId": "a3601f2e-94f0-4297-92f1-00bb5082a91a"
      },
      "execution_count": 7,
      "outputs": [
        {
          "output_type": "display_data",
          "data": {
            "text/plain": [
              "  0%|          | 0/15 [00:00<?, ?it/s]"
            ],
            "application/vnd.jupyter.widget-view+json": {
              "version_major": 2,
              "version_minor": 0,
              "model_id": "40950e98653745efad5de958eda45a92"
            }
          },
          "metadata": {}
        }
      ]
    },
    {
      "cell_type": "markdown",
      "source": [
        "# Результаты"
      ],
      "metadata": {
        "id": "55f2UuY7Ky-a"
      }
    },
    {
      "cell_type": "markdown",
      "source": [
        "### Функция для Рассчета Recall@k"
      ],
      "metadata": {
        "id": "KGtlk-YL1eYC"
      }
    },
    {
      "cell_type": "code",
      "source": [
        "from scipy.sparse import csr_matrix\n",
        "from implicit.cpu.als import AlternatingLeastSquares as cpu_ALS_cls\n",
        "from implicit.gpu.als import AlternatingLeastSquares as gpu_ALS_cls\n",
        "from typing import Union\n",
        "\n",
        "\n",
        "def recall_at_k(model: Union[cpu_ALS_cls, gpu_ALS_cls], \n",
        "           train_interactions: csr_matrix, \n",
        "           test_interactions: csr_matrix, \n",
        "           threshold: int=0.5, \n",
        "           k: int=10) -> float:\n",
        "    \"\"\"\n",
        "    Рассчет recall@k \n",
        "\n",
        "    params: \n",
        "        model - ALS модель из пакета implicit\n",
        "        train_interactions - матрица интеракций в csr формате, на которой обучалась модель формы (юзеры, айтемы)\n",
        "        test_interactions - матрица тестовых интеракций в csr-формате формы (юзеры, айтемы)\n",
        "        threshold - пороговое значение, с которого рейтинг в матрице будет считаться положительным/отрицательным. \n",
        "            Для бинарных значений (1/0) можно поставить порого 0.5 (по умолчанию) \n",
        "        k - сколько первых рекоммендаций берем для рассчета метрики\n",
        "    \"\"\"\n",
        "    assert k > 0, \"k should be greater than 0\"\n",
        "\n",
        "    included_users_cnt = 0\n",
        "    recall_sum = 0\n",
        "\n",
        "    # Для каждого юзера, если у него > k ненулевых значений в тестовой матрице\n",
        "    for user_id in range(test_interactions.shape[0]):\n",
        "        # Вектор скоров item'ов для юзера\n",
        "        user_items = test_interactions.getrow(user_id)[0]\n",
        "\n",
        "        # Используя threshold сделать значения рейтингов 0/1\n",
        "        user_items.data = np.where(user_items.data < threshold, 0, 1)\n",
        "\n",
        "        # Если меньше k положительных тестовых скоров, не учитываем юзера\n",
        "        if user_items.count_nonzero() < k:\n",
        "            continue\n",
        "        included_users_cnt += 1\n",
        "\n",
        "        # Получить матрицу top k предсказаний для юзера\n",
        "        user_preds = model.recommend(\n",
        "            user_id,\n",
        "            train_interactions.getrow(user_id), \n",
        "            N=k, \n",
        "            filter_already_liked_items=True  # автоматически убираем из предсказаний известные значения\n",
        "        )[0]\n",
        "\n",
        "        # recall для одного юзера: \n",
        "        # (сколько из top k предсказаний имеют значение 1 в train матрице) / (общее кол-во 1 в train для юзера)\n",
        "        user_recall = np.sum(np.isin(user_items.nonzero(), user_preds)) / user_items.count_nonzero()\n",
        "        recall_sum += user_recall\n",
        "\n",
        "\n",
        "    try:\n",
        "        # Усреднить по всем юзерам\n",
        "        return recall_sum / included_users_cnt\n",
        "    except ZeroDivisionError:\n",
        "        raise Exception(\"Couldn't calculate recall even for single user, try setting a lower k\")\n",
        "\n"
      ],
      "metadata": {
        "id": "xEBNbysHzlFi"
      },
      "execution_count": 8,
      "outputs": []
    },
    {
      "cell_type": "markdown",
      "source": [
        "### Функция для рассчета Serendipity@k"
      ],
      "metadata": {
        "id": "1W1QvSTEIKK-"
      }
    },
    {
      "cell_type": "code",
      "source": [
        "def serendipity_at_k(model_new: Union[cpu_ALS_cls, gpu_ALS_cls],\n",
        "                     model_old: Union[cpu_ALS_cls, gpu_ALS_cls],\n",
        "                     train_interactions: csr_matrix,\n",
        "                     k: int=10) -> float:\n",
        "    serendipity = 0\n",
        "    \"\"\"\n",
        "    Рассчет Serendipity@k\n",
        "\n",
        "    Метрика Serendipity не определена однозначно. Эта реализаци отдает \n",
        "    предпочтение моделям, предсказания которых\n",
        "        а) Unexpected, потому что раньше модель не рекомендовала предложенные айтемы\n",
        "        б) Relevant, потому что юзер еще не взаимодействовал с предложенными айтемомами\n",
        "\n",
        "    params:\n",
        "        model_new - модель, новизну предсказаний которой мы хотим оценить\n",
        "        model_old - старая модель, относительно которой сравниваем новую\n",
        "        train_interactions - интеракции, на которых обучались обе модели\n",
        "        k - сколько первых рекоммендаций берем для рассчета метрики\n",
        "    \"\"\"\n",
        "\n",
        "    # Для каждого юзера\n",
        "    for user_id in range(train_interactions.shape[0]):\n",
        "        # Берем top k предсказаний старой модели. Считаем, что она обучалась на тех же\n",
        "        # данных, что и новая\n",
        "        preds_old = model_old.recommend(\n",
        "            user_id,\n",
        "            train_interactions.getrow(user_id), \n",
        "            N=k, \n",
        "            filter_already_liked_items=False  # оставляем тренировочные интеракции для лценки релевантности\n",
        "        )[0]\n",
        "\n",
        "        # Берем top k предскаазний новой модели. \n",
        "        preds_new = model_new.recommend(\n",
        "            user_id,\n",
        "            train_interactions.getrow(user_id), \n",
        "            N=k, \n",
        "            filter_already_liked_items=False  # оставляем тренировочные интеракции для лценки релевантности\n",
        "        )[0]\n",
        "\n",
        "        # Если айтем а) Unexpected, т.е. не был в top k предсказаний старой модели\n",
        "        # б) Relevant, т.e. его не было в тренировочном наборе, \n",
        "        # То увеличиваем счетчик подоходящих айтемов для юзера\n",
        "        suitable_items_cnt = 0\n",
        "\n",
        "        suitable_items_cnt = np.sum(\n",
        "            ~np.isin(preds_new, preds_old) & \\\n",
        "            ~np.isin(preds_new, train_interactions[user_id].indices))\n",
        "\n",
        "        # Насколько хорошее предсказание - процент подходящих айтемов от k\n",
        "        serendipity +=  suitable_items_cnt / k\n",
        "\n",
        "    # Усредняем по юзерам\n",
        "    serendipity /= train_interactions.shape[0]\n",
        "\n",
        "    return serendipity\n"
      ],
      "metadata": {
        "id": "Sn2hexpwIXm8"
      },
      "execution_count": 9,
      "outputs": []
    },
    {
      "cell_type": "markdown",
      "source": [
        "## **Сводная таблица результатов**"
      ],
      "metadata": {
        "id": "DeE9lYgJNUdZ"
      }
    },
    {
      "cell_type": "code",
      "source": [
        "from implicit.evaluation import precision_at_k, ndcg_at_k\n",
        "\n",
        "# Вычисление метрик для обученной модели\n",
        "precision = precision_at_k(model, interactions[TRAIN], interactions[TEST], K=10)\n",
        "recall = recall_at_k(model, interactions[TRAIN], interactions[TEST], threshold=7, k=10)\n",
        "ndcg = ndcg_at_k(model, interactions[TRAIN], interactions[TEST], K=10)\n",
        "serendipity = serendipity_at_k(model, model_old, interactions[TRAIN], 10)"
      ],
      "metadata": {
        "colab": {
          "base_uri": "https://localhost:8080/",
          "height": 81,
          "referenced_widgets": [
            "ffec9ab3aaa84c318a878a46fd567e66",
            "4c465cf50fec4c0ebf2d864f35470480",
            "59f487e9d68442fca0a76e3f1e5c38d8",
            "b9983c05e42f452eb55991360c064da1",
            "a82dcef815034edf9703937b8f0d63f1",
            "ee8f658275f246629957b3d7ea22cfea",
            "cf34248ba175460d87176f09f959f3cd",
            "3c960589cee44eb8bbce532e606dc711",
            "1c8c9669cc3e46ffa06974b4b475448c",
            "e1c2eee4c34544979dd926b80d0fca22",
            "c46a6d14fd1843aba9c91238842658fe",
            "d8135299ebfa434e9e48ad8d04c2ca3c",
            "0e29c425dfc34881a0d4886b7e64a432",
            "3698fcaa02ad437e8507fdabf57c71d5",
            "89cf7bb7f0ed40ed818d157a46471e42",
            "4eb12e84d0a34bb0a0992908f3c3c9f2",
            "6d5daf3924014842b08f99e0762637f7",
            "fd786523de494d9dbb34fac9c6af52d5",
            "ac5a6bcc117a43a69131bfd3571d560b",
            "6603ef55b3d2488c9aeb38ed8263d0c1",
            "9f68ca52a5e2489bb752972be2c2e447",
            "476c52cd212b4b3e92bc4cbed9b31f8d"
          ]
        },
        "id": "JsOpwyEl_uSn",
        "outputId": "69d7d5fd-6867-40a5-b514-81ce08eae834"
      },
      "execution_count": 10,
      "outputs": [
        {
          "output_type": "display_data",
          "data": {
            "text/plain": [
              "  0%|          | 0/10000 [00:00<?, ?it/s]"
            ],
            "application/vnd.jupyter.widget-view+json": {
              "version_major": 2,
              "version_minor": 0,
              "model_id": "ffec9ab3aaa84c318a878a46fd567e66"
            }
          },
          "metadata": {}
        },
        {
          "output_type": "display_data",
          "data": {
            "text/plain": [
              "  0%|          | 0/10000 [00:00<?, ?it/s]"
            ],
            "application/vnd.jupyter.widget-view+json": {
              "version_major": 2,
              "version_minor": 0,
              "model_id": "d8135299ebfa434e9e48ad8d04c2ca3c"
            }
          },
          "metadata": {}
        }
      ]
    },
    {
      "cell_type": "code",
      "execution_count": 11,
      "outputs": [
        {
          "output_type": "stream",
          "name": "stdout",
          "text": [
            "          Метрика  Обученная модель\n",
            "0    Precision@10          0.022157\n",
            "1       Recall@10          0.017141\n",
            "2         NDCG@10          0.022117\n",
            "3  Serendipity@10          0.688990\n"
          ]
        }
      ],
      "source": [
        "# Вывод результатов в табличку\n",
        "\n",
        "import pandas as pd\n",
        "\n",
        "data = {\n",
        "    'Метрика': ['Precision@10', 'Recall@10', 'NDCG@10', 'Serendipity@10'],\n",
        "    'Обученная модель': [precision, recall, ndcg, serendipity],\n",
        "}\n",
        "\n",
        "df = pd.DataFrame(data)\n",
        "print(df)"
      ],
      "metadata": {
        "ExecuteTime": {
          "start_time": "2023-05-16T18:23:34.499311Z",
          "end_time": "2023-05-16T18:23:34.804023Z"
        },
        "colab": {
          "base_uri": "https://localhost:8080/"
        },
        "id": "ZC-RK1ksvWTP",
        "outputId": "b40a6f52-8629-47e0-e7fc-28612c1b86d4"
      }
    },
    {
      "cell_type": "code",
      "source": [
        "from typing import List\n",
        "\n",
        "\n",
        "# Функция для вывода рекомендаций пользователя\n",
        "def get_user_recommendations(user_id: int, \n",
        "                             n: int, \n",
        "                             interaction_matrix: csr_matrix) -> List[int]:\n",
        "                             \n",
        "    # Создание матрицы user_items для указанного пользователя\n",
        "    user_items = interaction_matrix[user_id]\n",
        "    \n",
        "    # Получение рекомендаций для пользователя в порядке убыванич скора\n",
        "    recommendations = model.recommend(\n",
        "        user_id,\n",
        "        user_items.tocsr(),\n",
        "        N=n, \n",
        "        filter_already_liked_items=True)[0].tolist()\n",
        "\n",
        "    return recommendations"
      ],
      "metadata": {
        "id": "9um7sgwVKmeV"
      },
      "execution_count": 17,
      "outputs": []
    },
    {
      "cell_type": "code",
      "source": [
        "get_user_recommendations(3, 10, interac_mat)"
      ],
      "metadata": {
        "colab": {
          "base_uri": "https://localhost:8080/"
        },
        "id": "0pbACMo5LU_X",
        "outputId": "b27d4078-9971-4cc0-b9dc-0e3d99d9fe05"
      },
      "execution_count": 18,
      "outputs": [
        {
          "output_type": "execute_result",
          "data": {
            "text/plain": [
              "[709, 972, 510, 870, 428, 429, 491, 142, 297, 713]"
            ]
          },
          "metadata": {},
          "execution_count": 18
        }
      ]
    },
    {
      "cell_type": "markdown",
      "source": [
        "# Сохранение артефактов модели"
      ],
      "metadata": {
        "id": "TmPR0SPQLs_L"
      }
    },
    {
      "cell_type": "code",
      "execution_count": 14,
      "outputs": [],
      "source": [
        "import pickle\n",
        "\n",
        "# Сохранение модели\n",
        "with open('trained_model.pkl', 'wb') as f:\n",
        "    pickle.dump(model, f)\n",
        "\n",
        "# Сохранение матрицы взаимодействий\n",
        "with open('interact_matrix.pkl', 'wb') as f:\n",
        "    pickle.dump(interac_mat, f)"
      ],
      "metadata": {
        "ExecuteTime": {
          "start_time": "2023-05-16T18:23:34.819201Z",
          "end_time": "2023-05-16T18:23:34.857818Z"
        },
        "id": "cknzbOohvWTR"
      }
    }
  ],
  "metadata": {
    "kernelspec": {
      "display_name": "Python 3",
      "language": "python",
      "name": "python3"
    },
    "language_info": {
      "codemirror_mode": {
        "name": "ipython",
        "version": 2
      },
      "file_extension": ".py",
      "mimetype": "text/x-python",
      "name": "python",
      "nbconvert_exporter": "python",
      "pygments_lexer": "ipython2",
      "version": "2.7.6"
    },
    "colab": {
      "provenance": []
    },
    "widgets": {
      "application/vnd.jupyter.widget-state+json": {
        "545514f552034519bea9790135daeda6": {
          "model_module": "@jupyter-widgets/controls",
          "model_name": "HBoxModel",
          "model_module_version": "1.5.0",
          "state": {
            "_dom_classes": [],
            "_model_module": "@jupyter-widgets/controls",
            "_model_module_version": "1.5.0",
            "_model_name": "HBoxModel",
            "_view_count": null,
            "_view_module": "@jupyter-widgets/controls",
            "_view_module_version": "1.5.0",
            "_view_name": "HBoxView",
            "box_style": "",
            "children": [
              "IPY_MODEL_9b02d4210a494360b7429380f98cd17d",
              "IPY_MODEL_f16fe746dd964fc18078d8f300589503",
              "IPY_MODEL_3d162fd4ac874a3b8151810b7242c798"
            ],
            "layout": "IPY_MODEL_a16183cee6a84ca0962b049c880cde61"
          }
        },
        "9b02d4210a494360b7429380f98cd17d": {
          "model_module": "@jupyter-widgets/controls",
          "model_name": "HTMLModel",
          "model_module_version": "1.5.0",
          "state": {
            "_dom_classes": [],
            "_model_module": "@jupyter-widgets/controls",
            "_model_module_version": "1.5.0",
            "_model_name": "HTMLModel",
            "_view_count": null,
            "_view_module": "@jupyter-widgets/controls",
            "_view_module_version": "1.5.0",
            "_view_name": "HTMLView",
            "description": "",
            "description_tooltip": null,
            "layout": "IPY_MODEL_db63c0bdbcb642479c1b634bca7245d4",
            "placeholder": "​",
            "style": "IPY_MODEL_4b66136f468c4f7b9f9b02a4fd54fdcf",
            "value": "100%"
          }
        },
        "f16fe746dd964fc18078d8f300589503": {
          "model_module": "@jupyter-widgets/controls",
          "model_name": "FloatProgressModel",
          "model_module_version": "1.5.0",
          "state": {
            "_dom_classes": [],
            "_model_module": "@jupyter-widgets/controls",
            "_model_module_version": "1.5.0",
            "_model_name": "FloatProgressModel",
            "_view_count": null,
            "_view_module": "@jupyter-widgets/controls",
            "_view_module_version": "1.5.0",
            "_view_name": "ProgressView",
            "bar_style": "success",
            "description": "",
            "description_tooltip": null,
            "layout": "IPY_MODEL_85a2c397d4644f71acc944a31013751b",
            "max": 15,
            "min": 0,
            "orientation": "horizontal",
            "style": "IPY_MODEL_68f22897aa544d03bd3ea578afe6656a",
            "value": 15
          }
        },
        "3d162fd4ac874a3b8151810b7242c798": {
          "model_module": "@jupyter-widgets/controls",
          "model_name": "HTMLModel",
          "model_module_version": "1.5.0",
          "state": {
            "_dom_classes": [],
            "_model_module": "@jupyter-widgets/controls",
            "_model_module_version": "1.5.0",
            "_model_name": "HTMLModel",
            "_view_count": null,
            "_view_module": "@jupyter-widgets/controls",
            "_view_module_version": "1.5.0",
            "_view_name": "HTMLView",
            "description": "",
            "description_tooltip": null,
            "layout": "IPY_MODEL_c529629f4e6c4c7f91344d8c771608d8",
            "placeholder": "​",
            "style": "IPY_MODEL_0807c020e23447d6984a382270ca0336",
            "value": " 15/15 [01:01&lt;00:00,  3.20s/it]"
          }
        },
        "a16183cee6a84ca0962b049c880cde61": {
          "model_module": "@jupyter-widgets/base",
          "model_name": "LayoutModel",
          "model_module_version": "1.2.0",
          "state": {
            "_model_module": "@jupyter-widgets/base",
            "_model_module_version": "1.2.0",
            "_model_name": "LayoutModel",
            "_view_count": null,
            "_view_module": "@jupyter-widgets/base",
            "_view_module_version": "1.2.0",
            "_view_name": "LayoutView",
            "align_content": null,
            "align_items": null,
            "align_self": null,
            "border": null,
            "bottom": null,
            "display": null,
            "flex": null,
            "flex_flow": null,
            "grid_area": null,
            "grid_auto_columns": null,
            "grid_auto_flow": null,
            "grid_auto_rows": null,
            "grid_column": null,
            "grid_gap": null,
            "grid_row": null,
            "grid_template_areas": null,
            "grid_template_columns": null,
            "grid_template_rows": null,
            "height": null,
            "justify_content": null,
            "justify_items": null,
            "left": null,
            "margin": null,
            "max_height": null,
            "max_width": null,
            "min_height": null,
            "min_width": null,
            "object_fit": null,
            "object_position": null,
            "order": null,
            "overflow": null,
            "overflow_x": null,
            "overflow_y": null,
            "padding": null,
            "right": null,
            "top": null,
            "visibility": null,
            "width": null
          }
        },
        "db63c0bdbcb642479c1b634bca7245d4": {
          "model_module": "@jupyter-widgets/base",
          "model_name": "LayoutModel",
          "model_module_version": "1.2.0",
          "state": {
            "_model_module": "@jupyter-widgets/base",
            "_model_module_version": "1.2.0",
            "_model_name": "LayoutModel",
            "_view_count": null,
            "_view_module": "@jupyter-widgets/base",
            "_view_module_version": "1.2.0",
            "_view_name": "LayoutView",
            "align_content": null,
            "align_items": null,
            "align_self": null,
            "border": null,
            "bottom": null,
            "display": null,
            "flex": null,
            "flex_flow": null,
            "grid_area": null,
            "grid_auto_columns": null,
            "grid_auto_flow": null,
            "grid_auto_rows": null,
            "grid_column": null,
            "grid_gap": null,
            "grid_row": null,
            "grid_template_areas": null,
            "grid_template_columns": null,
            "grid_template_rows": null,
            "height": null,
            "justify_content": null,
            "justify_items": null,
            "left": null,
            "margin": null,
            "max_height": null,
            "max_width": null,
            "min_height": null,
            "min_width": null,
            "object_fit": null,
            "object_position": null,
            "order": null,
            "overflow": null,
            "overflow_x": null,
            "overflow_y": null,
            "padding": null,
            "right": null,
            "top": null,
            "visibility": null,
            "width": null
          }
        },
        "4b66136f468c4f7b9f9b02a4fd54fdcf": {
          "model_module": "@jupyter-widgets/controls",
          "model_name": "DescriptionStyleModel",
          "model_module_version": "1.5.0",
          "state": {
            "_model_module": "@jupyter-widgets/controls",
            "_model_module_version": "1.5.0",
            "_model_name": "DescriptionStyleModel",
            "_view_count": null,
            "_view_module": "@jupyter-widgets/base",
            "_view_module_version": "1.2.0",
            "_view_name": "StyleView",
            "description_width": ""
          }
        },
        "85a2c397d4644f71acc944a31013751b": {
          "model_module": "@jupyter-widgets/base",
          "model_name": "LayoutModel",
          "model_module_version": "1.2.0",
          "state": {
            "_model_module": "@jupyter-widgets/base",
            "_model_module_version": "1.2.0",
            "_model_name": "LayoutModel",
            "_view_count": null,
            "_view_module": "@jupyter-widgets/base",
            "_view_module_version": "1.2.0",
            "_view_name": "LayoutView",
            "align_content": null,
            "align_items": null,
            "align_self": null,
            "border": null,
            "bottom": null,
            "display": null,
            "flex": null,
            "flex_flow": null,
            "grid_area": null,
            "grid_auto_columns": null,
            "grid_auto_flow": null,
            "grid_auto_rows": null,
            "grid_column": null,
            "grid_gap": null,
            "grid_row": null,
            "grid_template_areas": null,
            "grid_template_columns": null,
            "grid_template_rows": null,
            "height": null,
            "justify_content": null,
            "justify_items": null,
            "left": null,
            "margin": null,
            "max_height": null,
            "max_width": null,
            "min_height": null,
            "min_width": null,
            "object_fit": null,
            "object_position": null,
            "order": null,
            "overflow": null,
            "overflow_x": null,
            "overflow_y": null,
            "padding": null,
            "right": null,
            "top": null,
            "visibility": null,
            "width": null
          }
        },
        "68f22897aa544d03bd3ea578afe6656a": {
          "model_module": "@jupyter-widgets/controls",
          "model_name": "ProgressStyleModel",
          "model_module_version": "1.5.0",
          "state": {
            "_model_module": "@jupyter-widgets/controls",
            "_model_module_version": "1.5.0",
            "_model_name": "ProgressStyleModel",
            "_view_count": null,
            "_view_module": "@jupyter-widgets/base",
            "_view_module_version": "1.2.0",
            "_view_name": "StyleView",
            "bar_color": null,
            "description_width": ""
          }
        },
        "c529629f4e6c4c7f91344d8c771608d8": {
          "model_module": "@jupyter-widgets/base",
          "model_name": "LayoutModel",
          "model_module_version": "1.2.0",
          "state": {
            "_model_module": "@jupyter-widgets/base",
            "_model_module_version": "1.2.0",
            "_model_name": "LayoutModel",
            "_view_count": null,
            "_view_module": "@jupyter-widgets/base",
            "_view_module_version": "1.2.0",
            "_view_name": "LayoutView",
            "align_content": null,
            "align_items": null,
            "align_self": null,
            "border": null,
            "bottom": null,
            "display": null,
            "flex": null,
            "flex_flow": null,
            "grid_area": null,
            "grid_auto_columns": null,
            "grid_auto_flow": null,
            "grid_auto_rows": null,
            "grid_column": null,
            "grid_gap": null,
            "grid_row": null,
            "grid_template_areas": null,
            "grid_template_columns": null,
            "grid_template_rows": null,
            "height": null,
            "justify_content": null,
            "justify_items": null,
            "left": null,
            "margin": null,
            "max_height": null,
            "max_width": null,
            "min_height": null,
            "min_width": null,
            "object_fit": null,
            "object_position": null,
            "order": null,
            "overflow": null,
            "overflow_x": null,
            "overflow_y": null,
            "padding": null,
            "right": null,
            "top": null,
            "visibility": null,
            "width": null
          }
        },
        "0807c020e23447d6984a382270ca0336": {
          "model_module": "@jupyter-widgets/controls",
          "model_name": "DescriptionStyleModel",
          "model_module_version": "1.5.0",
          "state": {
            "_model_module": "@jupyter-widgets/controls",
            "_model_module_version": "1.5.0",
            "_model_name": "DescriptionStyleModel",
            "_view_count": null,
            "_view_module": "@jupyter-widgets/base",
            "_view_module_version": "1.2.0",
            "_view_name": "StyleView",
            "description_width": ""
          }
        },
        "40950e98653745efad5de958eda45a92": {
          "model_module": "@jupyter-widgets/controls",
          "model_name": "HBoxModel",
          "model_module_version": "1.5.0",
          "state": {
            "_dom_classes": [],
            "_model_module": "@jupyter-widgets/controls",
            "_model_module_version": "1.5.0",
            "_model_name": "HBoxModel",
            "_view_count": null,
            "_view_module": "@jupyter-widgets/controls",
            "_view_module_version": "1.5.0",
            "_view_name": "HBoxView",
            "box_style": "",
            "children": [
              "IPY_MODEL_74692004e2e243f9a861e2cdd18ba89a",
              "IPY_MODEL_3400a60204124e91a9e913a9c654f61a",
              "IPY_MODEL_52ba0ff5e1184588a4cf53d4a74aeca8"
            ],
            "layout": "IPY_MODEL_8eadfa9c2f934a60bac02df34e2bbb66"
          }
        },
        "74692004e2e243f9a861e2cdd18ba89a": {
          "model_module": "@jupyter-widgets/controls",
          "model_name": "HTMLModel",
          "model_module_version": "1.5.0",
          "state": {
            "_dom_classes": [],
            "_model_module": "@jupyter-widgets/controls",
            "_model_module_version": "1.5.0",
            "_model_name": "HTMLModel",
            "_view_count": null,
            "_view_module": "@jupyter-widgets/controls",
            "_view_module_version": "1.5.0",
            "_view_name": "HTMLView",
            "description": "",
            "description_tooltip": null,
            "layout": "IPY_MODEL_59766c1f7ee64a01b885992ef0483e0e",
            "placeholder": "​",
            "style": "IPY_MODEL_085856c36f354e4dbb5bdd80e538921f",
            "value": "100%"
          }
        },
        "3400a60204124e91a9e913a9c654f61a": {
          "model_module": "@jupyter-widgets/controls",
          "model_name": "FloatProgressModel",
          "model_module_version": "1.5.0",
          "state": {
            "_dom_classes": [],
            "_model_module": "@jupyter-widgets/controls",
            "_model_module_version": "1.5.0",
            "_model_name": "FloatProgressModel",
            "_view_count": null,
            "_view_module": "@jupyter-widgets/controls",
            "_view_module_version": "1.5.0",
            "_view_name": "ProgressView",
            "bar_style": "success",
            "description": "",
            "description_tooltip": null,
            "layout": "IPY_MODEL_577e579b7ff848119a96b19a14ceae1a",
            "max": 15,
            "min": 0,
            "orientation": "horizontal",
            "style": "IPY_MODEL_c9b9a1c3e15840d5934687454f163e10",
            "value": 15
          }
        },
        "52ba0ff5e1184588a4cf53d4a74aeca8": {
          "model_module": "@jupyter-widgets/controls",
          "model_name": "HTMLModel",
          "model_module_version": "1.5.0",
          "state": {
            "_dom_classes": [],
            "_model_module": "@jupyter-widgets/controls",
            "_model_module_version": "1.5.0",
            "_model_name": "HTMLModel",
            "_view_count": null,
            "_view_module": "@jupyter-widgets/controls",
            "_view_module_version": "1.5.0",
            "_view_name": "HTMLView",
            "description": "",
            "description_tooltip": null,
            "layout": "IPY_MODEL_046d3e21120741aea46712b2c2a8fff5",
            "placeholder": "​",
            "style": "IPY_MODEL_a83c7a1781a5452db18ea19e7138b7a8",
            "value": " 15/15 [00:48&lt;00:00,  3.33s/it]"
          }
        },
        "8eadfa9c2f934a60bac02df34e2bbb66": {
          "model_module": "@jupyter-widgets/base",
          "model_name": "LayoutModel",
          "model_module_version": "1.2.0",
          "state": {
            "_model_module": "@jupyter-widgets/base",
            "_model_module_version": "1.2.0",
            "_model_name": "LayoutModel",
            "_view_count": null,
            "_view_module": "@jupyter-widgets/base",
            "_view_module_version": "1.2.0",
            "_view_name": "LayoutView",
            "align_content": null,
            "align_items": null,
            "align_self": null,
            "border": null,
            "bottom": null,
            "display": null,
            "flex": null,
            "flex_flow": null,
            "grid_area": null,
            "grid_auto_columns": null,
            "grid_auto_flow": null,
            "grid_auto_rows": null,
            "grid_column": null,
            "grid_gap": null,
            "grid_row": null,
            "grid_template_areas": null,
            "grid_template_columns": null,
            "grid_template_rows": null,
            "height": null,
            "justify_content": null,
            "justify_items": null,
            "left": null,
            "margin": null,
            "max_height": null,
            "max_width": null,
            "min_height": null,
            "min_width": null,
            "object_fit": null,
            "object_position": null,
            "order": null,
            "overflow": null,
            "overflow_x": null,
            "overflow_y": null,
            "padding": null,
            "right": null,
            "top": null,
            "visibility": null,
            "width": null
          }
        },
        "59766c1f7ee64a01b885992ef0483e0e": {
          "model_module": "@jupyter-widgets/base",
          "model_name": "LayoutModel",
          "model_module_version": "1.2.0",
          "state": {
            "_model_module": "@jupyter-widgets/base",
            "_model_module_version": "1.2.0",
            "_model_name": "LayoutModel",
            "_view_count": null,
            "_view_module": "@jupyter-widgets/base",
            "_view_module_version": "1.2.0",
            "_view_name": "LayoutView",
            "align_content": null,
            "align_items": null,
            "align_self": null,
            "border": null,
            "bottom": null,
            "display": null,
            "flex": null,
            "flex_flow": null,
            "grid_area": null,
            "grid_auto_columns": null,
            "grid_auto_flow": null,
            "grid_auto_rows": null,
            "grid_column": null,
            "grid_gap": null,
            "grid_row": null,
            "grid_template_areas": null,
            "grid_template_columns": null,
            "grid_template_rows": null,
            "height": null,
            "justify_content": null,
            "justify_items": null,
            "left": null,
            "margin": null,
            "max_height": null,
            "max_width": null,
            "min_height": null,
            "min_width": null,
            "object_fit": null,
            "object_position": null,
            "order": null,
            "overflow": null,
            "overflow_x": null,
            "overflow_y": null,
            "padding": null,
            "right": null,
            "top": null,
            "visibility": null,
            "width": null
          }
        },
        "085856c36f354e4dbb5bdd80e538921f": {
          "model_module": "@jupyter-widgets/controls",
          "model_name": "DescriptionStyleModel",
          "model_module_version": "1.5.0",
          "state": {
            "_model_module": "@jupyter-widgets/controls",
            "_model_module_version": "1.5.0",
            "_model_name": "DescriptionStyleModel",
            "_view_count": null,
            "_view_module": "@jupyter-widgets/base",
            "_view_module_version": "1.2.0",
            "_view_name": "StyleView",
            "description_width": ""
          }
        },
        "577e579b7ff848119a96b19a14ceae1a": {
          "model_module": "@jupyter-widgets/base",
          "model_name": "LayoutModel",
          "model_module_version": "1.2.0",
          "state": {
            "_model_module": "@jupyter-widgets/base",
            "_model_module_version": "1.2.0",
            "_model_name": "LayoutModel",
            "_view_count": null,
            "_view_module": "@jupyter-widgets/base",
            "_view_module_version": "1.2.0",
            "_view_name": "LayoutView",
            "align_content": null,
            "align_items": null,
            "align_self": null,
            "border": null,
            "bottom": null,
            "display": null,
            "flex": null,
            "flex_flow": null,
            "grid_area": null,
            "grid_auto_columns": null,
            "grid_auto_flow": null,
            "grid_auto_rows": null,
            "grid_column": null,
            "grid_gap": null,
            "grid_row": null,
            "grid_template_areas": null,
            "grid_template_columns": null,
            "grid_template_rows": null,
            "height": null,
            "justify_content": null,
            "justify_items": null,
            "left": null,
            "margin": null,
            "max_height": null,
            "max_width": null,
            "min_height": null,
            "min_width": null,
            "object_fit": null,
            "object_position": null,
            "order": null,
            "overflow": null,
            "overflow_x": null,
            "overflow_y": null,
            "padding": null,
            "right": null,
            "top": null,
            "visibility": null,
            "width": null
          }
        },
        "c9b9a1c3e15840d5934687454f163e10": {
          "model_module": "@jupyter-widgets/controls",
          "model_name": "ProgressStyleModel",
          "model_module_version": "1.5.0",
          "state": {
            "_model_module": "@jupyter-widgets/controls",
            "_model_module_version": "1.5.0",
            "_model_name": "ProgressStyleModel",
            "_view_count": null,
            "_view_module": "@jupyter-widgets/base",
            "_view_module_version": "1.2.0",
            "_view_name": "StyleView",
            "bar_color": null,
            "description_width": ""
          }
        },
        "046d3e21120741aea46712b2c2a8fff5": {
          "model_module": "@jupyter-widgets/base",
          "model_name": "LayoutModel",
          "model_module_version": "1.2.0",
          "state": {
            "_model_module": "@jupyter-widgets/base",
            "_model_module_version": "1.2.0",
            "_model_name": "LayoutModel",
            "_view_count": null,
            "_view_module": "@jupyter-widgets/base",
            "_view_module_version": "1.2.0",
            "_view_name": "LayoutView",
            "align_content": null,
            "align_items": null,
            "align_self": null,
            "border": null,
            "bottom": null,
            "display": null,
            "flex": null,
            "flex_flow": null,
            "grid_area": null,
            "grid_auto_columns": null,
            "grid_auto_flow": null,
            "grid_auto_rows": null,
            "grid_column": null,
            "grid_gap": null,
            "grid_row": null,
            "grid_template_areas": null,
            "grid_template_columns": null,
            "grid_template_rows": null,
            "height": null,
            "justify_content": null,
            "justify_items": null,
            "left": null,
            "margin": null,
            "max_height": null,
            "max_width": null,
            "min_height": null,
            "min_width": null,
            "object_fit": null,
            "object_position": null,
            "order": null,
            "overflow": null,
            "overflow_x": null,
            "overflow_y": null,
            "padding": null,
            "right": null,
            "top": null,
            "visibility": null,
            "width": null
          }
        },
        "a83c7a1781a5452db18ea19e7138b7a8": {
          "model_module": "@jupyter-widgets/controls",
          "model_name": "DescriptionStyleModel",
          "model_module_version": "1.5.0",
          "state": {
            "_model_module": "@jupyter-widgets/controls",
            "_model_module_version": "1.5.0",
            "_model_name": "DescriptionStyleModel",
            "_view_count": null,
            "_view_module": "@jupyter-widgets/base",
            "_view_module_version": "1.2.0",
            "_view_name": "StyleView",
            "description_width": ""
          }
        },
        "ffec9ab3aaa84c318a878a46fd567e66": {
          "model_module": "@jupyter-widgets/controls",
          "model_name": "HBoxModel",
          "model_module_version": "1.5.0",
          "state": {
            "_dom_classes": [],
            "_model_module": "@jupyter-widgets/controls",
            "_model_module_version": "1.5.0",
            "_model_name": "HBoxModel",
            "_view_count": null,
            "_view_module": "@jupyter-widgets/controls",
            "_view_module_version": "1.5.0",
            "_view_name": "HBoxView",
            "box_style": "",
            "children": [
              "IPY_MODEL_4c465cf50fec4c0ebf2d864f35470480",
              "IPY_MODEL_59f487e9d68442fca0a76e3f1e5c38d8",
              "IPY_MODEL_b9983c05e42f452eb55991360c064da1"
            ],
            "layout": "IPY_MODEL_a82dcef815034edf9703937b8f0d63f1"
          }
        },
        "4c465cf50fec4c0ebf2d864f35470480": {
          "model_module": "@jupyter-widgets/controls",
          "model_name": "HTMLModel",
          "model_module_version": "1.5.0",
          "state": {
            "_dom_classes": [],
            "_model_module": "@jupyter-widgets/controls",
            "_model_module_version": "1.5.0",
            "_model_name": "HTMLModel",
            "_view_count": null,
            "_view_module": "@jupyter-widgets/controls",
            "_view_module_version": "1.5.0",
            "_view_name": "HTMLView",
            "description": "",
            "description_tooltip": null,
            "layout": "IPY_MODEL_ee8f658275f246629957b3d7ea22cfea",
            "placeholder": "​",
            "style": "IPY_MODEL_cf34248ba175460d87176f09f959f3cd",
            "value": "100%"
          }
        },
        "59f487e9d68442fca0a76e3f1e5c38d8": {
          "model_module": "@jupyter-widgets/controls",
          "model_name": "FloatProgressModel",
          "model_module_version": "1.5.0",
          "state": {
            "_dom_classes": [],
            "_model_module": "@jupyter-widgets/controls",
            "_model_module_version": "1.5.0",
            "_model_name": "FloatProgressModel",
            "_view_count": null,
            "_view_module": "@jupyter-widgets/controls",
            "_view_module_version": "1.5.0",
            "_view_name": "ProgressView",
            "bar_style": "success",
            "description": "",
            "description_tooltip": null,
            "layout": "IPY_MODEL_3c960589cee44eb8bbce532e606dc711",
            "max": 10000,
            "min": 0,
            "orientation": "horizontal",
            "style": "IPY_MODEL_1c8c9669cc3e46ffa06974b4b475448c",
            "value": 10000
          }
        },
        "b9983c05e42f452eb55991360c064da1": {
          "model_module": "@jupyter-widgets/controls",
          "model_name": "HTMLModel",
          "model_module_version": "1.5.0",
          "state": {
            "_dom_classes": [],
            "_model_module": "@jupyter-widgets/controls",
            "_model_module_version": "1.5.0",
            "_model_name": "HTMLModel",
            "_view_count": null,
            "_view_module": "@jupyter-widgets/controls",
            "_view_module_version": "1.5.0",
            "_view_name": "HTMLView",
            "description": "",
            "description_tooltip": null,
            "layout": "IPY_MODEL_e1c2eee4c34544979dd926b80d0fca22",
            "placeholder": "​",
            "style": "IPY_MODEL_c46a6d14fd1843aba9c91238842658fe",
            "value": " 10000/10000 [00:01&lt;00:00, 6132.26it/s]"
          }
        },
        "a82dcef815034edf9703937b8f0d63f1": {
          "model_module": "@jupyter-widgets/base",
          "model_name": "LayoutModel",
          "model_module_version": "1.2.0",
          "state": {
            "_model_module": "@jupyter-widgets/base",
            "_model_module_version": "1.2.0",
            "_model_name": "LayoutModel",
            "_view_count": null,
            "_view_module": "@jupyter-widgets/base",
            "_view_module_version": "1.2.0",
            "_view_name": "LayoutView",
            "align_content": null,
            "align_items": null,
            "align_self": null,
            "border": null,
            "bottom": null,
            "display": null,
            "flex": null,
            "flex_flow": null,
            "grid_area": null,
            "grid_auto_columns": null,
            "grid_auto_flow": null,
            "grid_auto_rows": null,
            "grid_column": null,
            "grid_gap": null,
            "grid_row": null,
            "grid_template_areas": null,
            "grid_template_columns": null,
            "grid_template_rows": null,
            "height": null,
            "justify_content": null,
            "justify_items": null,
            "left": null,
            "margin": null,
            "max_height": null,
            "max_width": null,
            "min_height": null,
            "min_width": null,
            "object_fit": null,
            "object_position": null,
            "order": null,
            "overflow": null,
            "overflow_x": null,
            "overflow_y": null,
            "padding": null,
            "right": null,
            "top": null,
            "visibility": null,
            "width": null
          }
        },
        "ee8f658275f246629957b3d7ea22cfea": {
          "model_module": "@jupyter-widgets/base",
          "model_name": "LayoutModel",
          "model_module_version": "1.2.0",
          "state": {
            "_model_module": "@jupyter-widgets/base",
            "_model_module_version": "1.2.0",
            "_model_name": "LayoutModel",
            "_view_count": null,
            "_view_module": "@jupyter-widgets/base",
            "_view_module_version": "1.2.0",
            "_view_name": "LayoutView",
            "align_content": null,
            "align_items": null,
            "align_self": null,
            "border": null,
            "bottom": null,
            "display": null,
            "flex": null,
            "flex_flow": null,
            "grid_area": null,
            "grid_auto_columns": null,
            "grid_auto_flow": null,
            "grid_auto_rows": null,
            "grid_column": null,
            "grid_gap": null,
            "grid_row": null,
            "grid_template_areas": null,
            "grid_template_columns": null,
            "grid_template_rows": null,
            "height": null,
            "justify_content": null,
            "justify_items": null,
            "left": null,
            "margin": null,
            "max_height": null,
            "max_width": null,
            "min_height": null,
            "min_width": null,
            "object_fit": null,
            "object_position": null,
            "order": null,
            "overflow": null,
            "overflow_x": null,
            "overflow_y": null,
            "padding": null,
            "right": null,
            "top": null,
            "visibility": null,
            "width": null
          }
        },
        "cf34248ba175460d87176f09f959f3cd": {
          "model_module": "@jupyter-widgets/controls",
          "model_name": "DescriptionStyleModel",
          "model_module_version": "1.5.0",
          "state": {
            "_model_module": "@jupyter-widgets/controls",
            "_model_module_version": "1.5.0",
            "_model_name": "DescriptionStyleModel",
            "_view_count": null,
            "_view_module": "@jupyter-widgets/base",
            "_view_module_version": "1.2.0",
            "_view_name": "StyleView",
            "description_width": ""
          }
        },
        "3c960589cee44eb8bbce532e606dc711": {
          "model_module": "@jupyter-widgets/base",
          "model_name": "LayoutModel",
          "model_module_version": "1.2.0",
          "state": {
            "_model_module": "@jupyter-widgets/base",
            "_model_module_version": "1.2.0",
            "_model_name": "LayoutModel",
            "_view_count": null,
            "_view_module": "@jupyter-widgets/base",
            "_view_module_version": "1.2.0",
            "_view_name": "LayoutView",
            "align_content": null,
            "align_items": null,
            "align_self": null,
            "border": null,
            "bottom": null,
            "display": null,
            "flex": null,
            "flex_flow": null,
            "grid_area": null,
            "grid_auto_columns": null,
            "grid_auto_flow": null,
            "grid_auto_rows": null,
            "grid_column": null,
            "grid_gap": null,
            "grid_row": null,
            "grid_template_areas": null,
            "grid_template_columns": null,
            "grid_template_rows": null,
            "height": null,
            "justify_content": null,
            "justify_items": null,
            "left": null,
            "margin": null,
            "max_height": null,
            "max_width": null,
            "min_height": null,
            "min_width": null,
            "object_fit": null,
            "object_position": null,
            "order": null,
            "overflow": null,
            "overflow_x": null,
            "overflow_y": null,
            "padding": null,
            "right": null,
            "top": null,
            "visibility": null,
            "width": null
          }
        },
        "1c8c9669cc3e46ffa06974b4b475448c": {
          "model_module": "@jupyter-widgets/controls",
          "model_name": "ProgressStyleModel",
          "model_module_version": "1.5.0",
          "state": {
            "_model_module": "@jupyter-widgets/controls",
            "_model_module_version": "1.5.0",
            "_model_name": "ProgressStyleModel",
            "_view_count": null,
            "_view_module": "@jupyter-widgets/base",
            "_view_module_version": "1.2.0",
            "_view_name": "StyleView",
            "bar_color": null,
            "description_width": ""
          }
        },
        "e1c2eee4c34544979dd926b80d0fca22": {
          "model_module": "@jupyter-widgets/base",
          "model_name": "LayoutModel",
          "model_module_version": "1.2.0",
          "state": {
            "_model_module": "@jupyter-widgets/base",
            "_model_module_version": "1.2.0",
            "_model_name": "LayoutModel",
            "_view_count": null,
            "_view_module": "@jupyter-widgets/base",
            "_view_module_version": "1.2.0",
            "_view_name": "LayoutView",
            "align_content": null,
            "align_items": null,
            "align_self": null,
            "border": null,
            "bottom": null,
            "display": null,
            "flex": null,
            "flex_flow": null,
            "grid_area": null,
            "grid_auto_columns": null,
            "grid_auto_flow": null,
            "grid_auto_rows": null,
            "grid_column": null,
            "grid_gap": null,
            "grid_row": null,
            "grid_template_areas": null,
            "grid_template_columns": null,
            "grid_template_rows": null,
            "height": null,
            "justify_content": null,
            "justify_items": null,
            "left": null,
            "margin": null,
            "max_height": null,
            "max_width": null,
            "min_height": null,
            "min_width": null,
            "object_fit": null,
            "object_position": null,
            "order": null,
            "overflow": null,
            "overflow_x": null,
            "overflow_y": null,
            "padding": null,
            "right": null,
            "top": null,
            "visibility": null,
            "width": null
          }
        },
        "c46a6d14fd1843aba9c91238842658fe": {
          "model_module": "@jupyter-widgets/controls",
          "model_name": "DescriptionStyleModel",
          "model_module_version": "1.5.0",
          "state": {
            "_model_module": "@jupyter-widgets/controls",
            "_model_module_version": "1.5.0",
            "_model_name": "DescriptionStyleModel",
            "_view_count": null,
            "_view_module": "@jupyter-widgets/base",
            "_view_module_version": "1.2.0",
            "_view_name": "StyleView",
            "description_width": ""
          }
        },
        "d8135299ebfa434e9e48ad8d04c2ca3c": {
          "model_module": "@jupyter-widgets/controls",
          "model_name": "HBoxModel",
          "model_module_version": "1.5.0",
          "state": {
            "_dom_classes": [],
            "_model_module": "@jupyter-widgets/controls",
            "_model_module_version": "1.5.0",
            "_model_name": "HBoxModel",
            "_view_count": null,
            "_view_module": "@jupyter-widgets/controls",
            "_view_module_version": "1.5.0",
            "_view_name": "HBoxView",
            "box_style": "",
            "children": [
              "IPY_MODEL_0e29c425dfc34881a0d4886b7e64a432",
              "IPY_MODEL_3698fcaa02ad437e8507fdabf57c71d5",
              "IPY_MODEL_89cf7bb7f0ed40ed818d157a46471e42"
            ],
            "layout": "IPY_MODEL_4eb12e84d0a34bb0a0992908f3c3c9f2"
          }
        },
        "0e29c425dfc34881a0d4886b7e64a432": {
          "model_module": "@jupyter-widgets/controls",
          "model_name": "HTMLModel",
          "model_module_version": "1.5.0",
          "state": {
            "_dom_classes": [],
            "_model_module": "@jupyter-widgets/controls",
            "_model_module_version": "1.5.0",
            "_model_name": "HTMLModel",
            "_view_count": null,
            "_view_module": "@jupyter-widgets/controls",
            "_view_module_version": "1.5.0",
            "_view_name": "HTMLView",
            "description": "",
            "description_tooltip": null,
            "layout": "IPY_MODEL_6d5daf3924014842b08f99e0762637f7",
            "placeholder": "​",
            "style": "IPY_MODEL_fd786523de494d9dbb34fac9c6af52d5",
            "value": "100%"
          }
        },
        "3698fcaa02ad437e8507fdabf57c71d5": {
          "model_module": "@jupyter-widgets/controls",
          "model_name": "FloatProgressModel",
          "model_module_version": "1.5.0",
          "state": {
            "_dom_classes": [],
            "_model_module": "@jupyter-widgets/controls",
            "_model_module_version": "1.5.0",
            "_model_name": "FloatProgressModel",
            "_view_count": null,
            "_view_module": "@jupyter-widgets/controls",
            "_view_module_version": "1.5.0",
            "_view_name": "ProgressView",
            "bar_style": "success",
            "description": "",
            "description_tooltip": null,
            "layout": "IPY_MODEL_ac5a6bcc117a43a69131bfd3571d560b",
            "max": 10000,
            "min": 0,
            "orientation": "horizontal",
            "style": "IPY_MODEL_6603ef55b3d2488c9aeb38ed8263d0c1",
            "value": 10000
          }
        },
        "89cf7bb7f0ed40ed818d157a46471e42": {
          "model_module": "@jupyter-widgets/controls",
          "model_name": "HTMLModel",
          "model_module_version": "1.5.0",
          "state": {
            "_dom_classes": [],
            "_model_module": "@jupyter-widgets/controls",
            "_model_module_version": "1.5.0",
            "_model_name": "HTMLModel",
            "_view_count": null,
            "_view_module": "@jupyter-widgets/controls",
            "_view_module_version": "1.5.0",
            "_view_name": "HTMLView",
            "description": "",
            "description_tooltip": null,
            "layout": "IPY_MODEL_9f68ca52a5e2489bb752972be2c2e447",
            "placeholder": "​",
            "style": "IPY_MODEL_476c52cd212b4b3e92bc4cbed9b31f8d",
            "value": " 10000/10000 [00:01&lt;00:00, 4705.61it/s]"
          }
        },
        "4eb12e84d0a34bb0a0992908f3c3c9f2": {
          "model_module": "@jupyter-widgets/base",
          "model_name": "LayoutModel",
          "model_module_version": "1.2.0",
          "state": {
            "_model_module": "@jupyter-widgets/base",
            "_model_module_version": "1.2.0",
            "_model_name": "LayoutModel",
            "_view_count": null,
            "_view_module": "@jupyter-widgets/base",
            "_view_module_version": "1.2.0",
            "_view_name": "LayoutView",
            "align_content": null,
            "align_items": null,
            "align_self": null,
            "border": null,
            "bottom": null,
            "display": null,
            "flex": null,
            "flex_flow": null,
            "grid_area": null,
            "grid_auto_columns": null,
            "grid_auto_flow": null,
            "grid_auto_rows": null,
            "grid_column": null,
            "grid_gap": null,
            "grid_row": null,
            "grid_template_areas": null,
            "grid_template_columns": null,
            "grid_template_rows": null,
            "height": null,
            "justify_content": null,
            "justify_items": null,
            "left": null,
            "margin": null,
            "max_height": null,
            "max_width": null,
            "min_height": null,
            "min_width": null,
            "object_fit": null,
            "object_position": null,
            "order": null,
            "overflow": null,
            "overflow_x": null,
            "overflow_y": null,
            "padding": null,
            "right": null,
            "top": null,
            "visibility": null,
            "width": null
          }
        },
        "6d5daf3924014842b08f99e0762637f7": {
          "model_module": "@jupyter-widgets/base",
          "model_name": "LayoutModel",
          "model_module_version": "1.2.0",
          "state": {
            "_model_module": "@jupyter-widgets/base",
            "_model_module_version": "1.2.0",
            "_model_name": "LayoutModel",
            "_view_count": null,
            "_view_module": "@jupyter-widgets/base",
            "_view_module_version": "1.2.0",
            "_view_name": "LayoutView",
            "align_content": null,
            "align_items": null,
            "align_self": null,
            "border": null,
            "bottom": null,
            "display": null,
            "flex": null,
            "flex_flow": null,
            "grid_area": null,
            "grid_auto_columns": null,
            "grid_auto_flow": null,
            "grid_auto_rows": null,
            "grid_column": null,
            "grid_gap": null,
            "grid_row": null,
            "grid_template_areas": null,
            "grid_template_columns": null,
            "grid_template_rows": null,
            "height": null,
            "justify_content": null,
            "justify_items": null,
            "left": null,
            "margin": null,
            "max_height": null,
            "max_width": null,
            "min_height": null,
            "min_width": null,
            "object_fit": null,
            "object_position": null,
            "order": null,
            "overflow": null,
            "overflow_x": null,
            "overflow_y": null,
            "padding": null,
            "right": null,
            "top": null,
            "visibility": null,
            "width": null
          }
        },
        "fd786523de494d9dbb34fac9c6af52d5": {
          "model_module": "@jupyter-widgets/controls",
          "model_name": "DescriptionStyleModel",
          "model_module_version": "1.5.0",
          "state": {
            "_model_module": "@jupyter-widgets/controls",
            "_model_module_version": "1.5.0",
            "_model_name": "DescriptionStyleModel",
            "_view_count": null,
            "_view_module": "@jupyter-widgets/base",
            "_view_module_version": "1.2.0",
            "_view_name": "StyleView",
            "description_width": ""
          }
        },
        "ac5a6bcc117a43a69131bfd3571d560b": {
          "model_module": "@jupyter-widgets/base",
          "model_name": "LayoutModel",
          "model_module_version": "1.2.0",
          "state": {
            "_model_module": "@jupyter-widgets/base",
            "_model_module_version": "1.2.0",
            "_model_name": "LayoutModel",
            "_view_count": null,
            "_view_module": "@jupyter-widgets/base",
            "_view_module_version": "1.2.0",
            "_view_name": "LayoutView",
            "align_content": null,
            "align_items": null,
            "align_self": null,
            "border": null,
            "bottom": null,
            "display": null,
            "flex": null,
            "flex_flow": null,
            "grid_area": null,
            "grid_auto_columns": null,
            "grid_auto_flow": null,
            "grid_auto_rows": null,
            "grid_column": null,
            "grid_gap": null,
            "grid_row": null,
            "grid_template_areas": null,
            "grid_template_columns": null,
            "grid_template_rows": null,
            "height": null,
            "justify_content": null,
            "justify_items": null,
            "left": null,
            "margin": null,
            "max_height": null,
            "max_width": null,
            "min_height": null,
            "min_width": null,
            "object_fit": null,
            "object_position": null,
            "order": null,
            "overflow": null,
            "overflow_x": null,
            "overflow_y": null,
            "padding": null,
            "right": null,
            "top": null,
            "visibility": null,
            "width": null
          }
        },
        "6603ef55b3d2488c9aeb38ed8263d0c1": {
          "model_module": "@jupyter-widgets/controls",
          "model_name": "ProgressStyleModel",
          "model_module_version": "1.5.0",
          "state": {
            "_model_module": "@jupyter-widgets/controls",
            "_model_module_version": "1.5.0",
            "_model_name": "ProgressStyleModel",
            "_view_count": null,
            "_view_module": "@jupyter-widgets/base",
            "_view_module_version": "1.2.0",
            "_view_name": "StyleView",
            "bar_color": null,
            "description_width": ""
          }
        },
        "9f68ca52a5e2489bb752972be2c2e447": {
          "model_module": "@jupyter-widgets/base",
          "model_name": "LayoutModel",
          "model_module_version": "1.2.0",
          "state": {
            "_model_module": "@jupyter-widgets/base",
            "_model_module_version": "1.2.0",
            "_model_name": "LayoutModel",
            "_view_count": null,
            "_view_module": "@jupyter-widgets/base",
            "_view_module_version": "1.2.0",
            "_view_name": "LayoutView",
            "align_content": null,
            "align_items": null,
            "align_self": null,
            "border": null,
            "bottom": null,
            "display": null,
            "flex": null,
            "flex_flow": null,
            "grid_area": null,
            "grid_auto_columns": null,
            "grid_auto_flow": null,
            "grid_auto_rows": null,
            "grid_column": null,
            "grid_gap": null,
            "grid_row": null,
            "grid_template_areas": null,
            "grid_template_columns": null,
            "grid_template_rows": null,
            "height": null,
            "justify_content": null,
            "justify_items": null,
            "left": null,
            "margin": null,
            "max_height": null,
            "max_width": null,
            "min_height": null,
            "min_width": null,
            "object_fit": null,
            "object_position": null,
            "order": null,
            "overflow": null,
            "overflow_x": null,
            "overflow_y": null,
            "padding": null,
            "right": null,
            "top": null,
            "visibility": null,
            "width": null
          }
        },
        "476c52cd212b4b3e92bc4cbed9b31f8d": {
          "model_module": "@jupyter-widgets/controls",
          "model_name": "DescriptionStyleModel",
          "model_module_version": "1.5.0",
          "state": {
            "_model_module": "@jupyter-widgets/controls",
            "_model_module_version": "1.5.0",
            "_model_name": "DescriptionStyleModel",
            "_view_count": null,
            "_view_module": "@jupyter-widgets/base",
            "_view_module_version": "1.2.0",
            "_view_name": "StyleView",
            "description_width": ""
          }
        }
      }
    }
  },
  "nbformat": 4,
  "nbformat_minor": 0
}